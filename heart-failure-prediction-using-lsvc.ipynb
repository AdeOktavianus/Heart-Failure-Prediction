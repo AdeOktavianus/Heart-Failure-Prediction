{
 "cells": [
  {
   "cell_type": "code",
   "execution_count": 1,
   "metadata": {
    "_cell_guid": "b1076dfc-b9ad-4769-8c92-a6c4dae69d19",
    "_uuid": "8f2839f25d086af736a60e9eeb907d3b93b6e0e5",
    "execution": {
     "iopub.execute_input": "2021-12-23T15:15:33.543089Z",
     "iopub.status.busy": "2021-12-23T15:15:33.542510Z",
     "iopub.status.idle": "2021-12-23T15:15:33.552531Z",
     "shell.execute_reply": "2021-12-23T15:15:33.551965Z",
     "shell.execute_reply.started": "2021-12-23T15:15:33.542926Z"
    }
   },
   "outputs": [],
   "source": [
    "# This Python 3 environment comes with many helpful analytics libraries installed\n",
    "# It is defined by the kaggle/python Docker image: https://github.com/kaggle/docker-python\n",
    "# For example, here's several helpful packages to load\n",
    "\n",
    "import numpy as np # linear algebra\n",
    "import pandas as pd # data processing, CSV file I/O (e.g. pd.read_csv)\n",
    "\n",
    "# Input data files are available in the read-only \"../input/\" directory\n",
    "# For example, running this (by clicking run or pressing Shift+Enter) will list all files under the input directory\n",
    "\n",
    "import os\n",
    "for dirname, _, filenames in os.walk('/kaggle/input'):\n",
    "    for filename in filenames:\n",
    "        print(os.path.join(dirname, filename))\n",
    "\n",
    "# You can write up to 20GB to the current directory (/kaggle/working/) that gets preserved as output when you create a version using \"Save & Run All\" \n",
    "# You can also write temporary files to /kaggle/temp/, but they won't be saved outside of the current session"
   ]
  },
  {
   "cell_type": "code",
   "execution_count": 2,
   "metadata": {
    "execution": {
     "iopub.execute_input": "2021-12-23T15:39:04.277798Z",
     "iopub.status.busy": "2021-12-23T15:39:04.277358Z",
     "iopub.status.idle": "2021-12-23T15:39:04.283596Z",
     "shell.execute_reply": "2021-12-23T15:39:04.283005Z",
     "shell.execute_reply.started": "2021-12-23T15:39:04.277752Z"
    }
   },
   "outputs": [],
   "source": [
    "import numpy as np\n",
    "import pandas as pd\n",
    "import matplotlib.pyplot as plt\n",
    "import seaborn as sns\n",
    "from sklearn.preprocessing import LabelEncoder\n",
    "from sklearn.preprocessing import MinMaxScaler\n",
    "from sklearn.model_selection import train_test_split\n",
    "from sklearn.svm import LinearSVC\n",
    "from sklearn.model_selection import cross_val_score\n",
    "from sklearn.metrics import confusion_matrix\n",
    "from sklearn.metrics import classification_report"
   ]
  },
  {
   "cell_type": "code",
   "execution_count": 3,
   "metadata": {
    "execution": {
     "iopub.execute_input": "2021-12-23T15:15:33.562483Z",
     "iopub.status.busy": "2021-12-23T15:15:33.562120Z",
     "iopub.status.idle": "2021-12-23T15:15:33.587958Z",
     "shell.execute_reply": "2021-12-23T15:15:33.587129Z",
     "shell.execute_reply.started": "2021-12-23T15:15:33.562453Z"
    }
   },
   "outputs": [
    {
     "ename": "FileNotFoundError",
     "evalue": "[Errno 2] No such file or directory: '../input/heart-failure-prediction/heart.csv'",
     "output_type": "error",
     "traceback": [
      "\u001b[1;31m---------------------------------------------------------------------------\u001b[0m",
      "\u001b[1;31mFileNotFoundError\u001b[0m                         Traceback (most recent call last)",
      "\u001b[1;32m<ipython-input-3-a918ccc93d0f>\u001b[0m in \u001b[0;36m<module>\u001b[1;34m\u001b[0m\n\u001b[1;32m----> 1\u001b[1;33m \u001b[0mdf\u001b[0m\u001b[1;33m=\u001b[0m \u001b[0mpd\u001b[0m\u001b[1;33m.\u001b[0m\u001b[0mread_csv\u001b[0m\u001b[1;33m(\u001b[0m\u001b[1;34m'../input/heart-failure-prediction/heart.csv'\u001b[0m\u001b[1;33m)\u001b[0m\u001b[1;33m\u001b[0m\u001b[1;33m\u001b[0m\u001b[0m\n\u001b[0m\u001b[0;32m      2\u001b[0m \u001b[0mdf\u001b[0m\u001b[1;33m.\u001b[0m\u001b[0mhead\u001b[0m\u001b[1;33m(\u001b[0m\u001b[1;36m10\u001b[0m\u001b[1;33m)\u001b[0m\u001b[1;33m\u001b[0m\u001b[1;33m\u001b[0m\u001b[0m\n\u001b[0;32m      3\u001b[0m \u001b[0mdf\u001b[0m\u001b[1;33m.\u001b[0m\u001b[0mtail\u001b[0m\u001b[1;33m(\u001b[0m\u001b[1;36m10\u001b[0m\u001b[1;33m)\u001b[0m\u001b[1;33m\u001b[0m\u001b[1;33m\u001b[0m\u001b[0m\n",
      "\u001b[1;32m~\\anaconda3\\lib\\site-packages\\pandas\\io\\parsers.py\u001b[0m in \u001b[0;36mread_csv\u001b[1;34m(filepath_or_buffer, sep, delimiter, header, names, index_col, usecols, squeeze, prefix, mangle_dupe_cols, dtype, engine, converters, true_values, false_values, skipinitialspace, skiprows, skipfooter, nrows, na_values, keep_default_na, na_filter, verbose, skip_blank_lines, parse_dates, infer_datetime_format, keep_date_col, date_parser, dayfirst, cache_dates, iterator, chunksize, compression, thousands, decimal, lineterminator, quotechar, quoting, doublequote, escapechar, comment, encoding, dialect, error_bad_lines, warn_bad_lines, delim_whitespace, low_memory, memory_map, float_precision)\u001b[0m\n\u001b[0;32m    684\u001b[0m     )\n\u001b[0;32m    685\u001b[0m \u001b[1;33m\u001b[0m\u001b[0m\n\u001b[1;32m--> 686\u001b[1;33m     \u001b[1;32mreturn\u001b[0m \u001b[0m_read\u001b[0m\u001b[1;33m(\u001b[0m\u001b[0mfilepath_or_buffer\u001b[0m\u001b[1;33m,\u001b[0m \u001b[0mkwds\u001b[0m\u001b[1;33m)\u001b[0m\u001b[1;33m\u001b[0m\u001b[1;33m\u001b[0m\u001b[0m\n\u001b[0m\u001b[0;32m    687\u001b[0m \u001b[1;33m\u001b[0m\u001b[0m\n\u001b[0;32m    688\u001b[0m \u001b[1;33m\u001b[0m\u001b[0m\n",
      "\u001b[1;32m~\\anaconda3\\lib\\site-packages\\pandas\\io\\parsers.py\u001b[0m in \u001b[0;36m_read\u001b[1;34m(filepath_or_buffer, kwds)\u001b[0m\n\u001b[0;32m    450\u001b[0m \u001b[1;33m\u001b[0m\u001b[0m\n\u001b[0;32m    451\u001b[0m     \u001b[1;31m# Create the parser.\u001b[0m\u001b[1;33m\u001b[0m\u001b[1;33m\u001b[0m\u001b[1;33m\u001b[0m\u001b[0m\n\u001b[1;32m--> 452\u001b[1;33m     \u001b[0mparser\u001b[0m \u001b[1;33m=\u001b[0m \u001b[0mTextFileReader\u001b[0m\u001b[1;33m(\u001b[0m\u001b[0mfp_or_buf\u001b[0m\u001b[1;33m,\u001b[0m \u001b[1;33m**\u001b[0m\u001b[0mkwds\u001b[0m\u001b[1;33m)\u001b[0m\u001b[1;33m\u001b[0m\u001b[1;33m\u001b[0m\u001b[0m\n\u001b[0m\u001b[0;32m    453\u001b[0m \u001b[1;33m\u001b[0m\u001b[0m\n\u001b[0;32m    454\u001b[0m     \u001b[1;32mif\u001b[0m \u001b[0mchunksize\u001b[0m \u001b[1;32mor\u001b[0m \u001b[0miterator\u001b[0m\u001b[1;33m:\u001b[0m\u001b[1;33m\u001b[0m\u001b[1;33m\u001b[0m\u001b[0m\n",
      "\u001b[1;32m~\\anaconda3\\lib\\site-packages\\pandas\\io\\parsers.py\u001b[0m in \u001b[0;36m__init__\u001b[1;34m(self, f, engine, **kwds)\u001b[0m\n\u001b[0;32m    944\u001b[0m             \u001b[0mself\u001b[0m\u001b[1;33m.\u001b[0m\u001b[0moptions\u001b[0m\u001b[1;33m[\u001b[0m\u001b[1;34m\"has_index_names\"\u001b[0m\u001b[1;33m]\u001b[0m \u001b[1;33m=\u001b[0m \u001b[0mkwds\u001b[0m\u001b[1;33m[\u001b[0m\u001b[1;34m\"has_index_names\"\u001b[0m\u001b[1;33m]\u001b[0m\u001b[1;33m\u001b[0m\u001b[1;33m\u001b[0m\u001b[0m\n\u001b[0;32m    945\u001b[0m \u001b[1;33m\u001b[0m\u001b[0m\n\u001b[1;32m--> 946\u001b[1;33m         \u001b[0mself\u001b[0m\u001b[1;33m.\u001b[0m\u001b[0m_make_engine\u001b[0m\u001b[1;33m(\u001b[0m\u001b[0mself\u001b[0m\u001b[1;33m.\u001b[0m\u001b[0mengine\u001b[0m\u001b[1;33m)\u001b[0m\u001b[1;33m\u001b[0m\u001b[1;33m\u001b[0m\u001b[0m\n\u001b[0m\u001b[0;32m    947\u001b[0m \u001b[1;33m\u001b[0m\u001b[0m\n\u001b[0;32m    948\u001b[0m     \u001b[1;32mdef\u001b[0m \u001b[0mclose\u001b[0m\u001b[1;33m(\u001b[0m\u001b[0mself\u001b[0m\u001b[1;33m)\u001b[0m\u001b[1;33m:\u001b[0m\u001b[1;33m\u001b[0m\u001b[1;33m\u001b[0m\u001b[0m\n",
      "\u001b[1;32m~\\anaconda3\\lib\\site-packages\\pandas\\io\\parsers.py\u001b[0m in \u001b[0;36m_make_engine\u001b[1;34m(self, engine)\u001b[0m\n\u001b[0;32m   1176\u001b[0m     \u001b[1;32mdef\u001b[0m \u001b[0m_make_engine\u001b[0m\u001b[1;33m(\u001b[0m\u001b[0mself\u001b[0m\u001b[1;33m,\u001b[0m \u001b[0mengine\u001b[0m\u001b[1;33m=\u001b[0m\u001b[1;34m\"c\"\u001b[0m\u001b[1;33m)\u001b[0m\u001b[1;33m:\u001b[0m\u001b[1;33m\u001b[0m\u001b[1;33m\u001b[0m\u001b[0m\n\u001b[0;32m   1177\u001b[0m         \u001b[1;32mif\u001b[0m \u001b[0mengine\u001b[0m \u001b[1;33m==\u001b[0m \u001b[1;34m\"c\"\u001b[0m\u001b[1;33m:\u001b[0m\u001b[1;33m\u001b[0m\u001b[1;33m\u001b[0m\u001b[0m\n\u001b[1;32m-> 1178\u001b[1;33m             \u001b[0mself\u001b[0m\u001b[1;33m.\u001b[0m\u001b[0m_engine\u001b[0m \u001b[1;33m=\u001b[0m \u001b[0mCParserWrapper\u001b[0m\u001b[1;33m(\u001b[0m\u001b[0mself\u001b[0m\u001b[1;33m.\u001b[0m\u001b[0mf\u001b[0m\u001b[1;33m,\u001b[0m \u001b[1;33m**\u001b[0m\u001b[0mself\u001b[0m\u001b[1;33m.\u001b[0m\u001b[0moptions\u001b[0m\u001b[1;33m)\u001b[0m\u001b[1;33m\u001b[0m\u001b[1;33m\u001b[0m\u001b[0m\n\u001b[0m\u001b[0;32m   1179\u001b[0m         \u001b[1;32melse\u001b[0m\u001b[1;33m:\u001b[0m\u001b[1;33m\u001b[0m\u001b[1;33m\u001b[0m\u001b[0m\n\u001b[0;32m   1180\u001b[0m             \u001b[1;32mif\u001b[0m \u001b[0mengine\u001b[0m \u001b[1;33m==\u001b[0m \u001b[1;34m\"python\"\u001b[0m\u001b[1;33m:\u001b[0m\u001b[1;33m\u001b[0m\u001b[1;33m\u001b[0m\u001b[0m\n",
      "\u001b[1;32m~\\anaconda3\\lib\\site-packages\\pandas\\io\\parsers.py\u001b[0m in \u001b[0;36m__init__\u001b[1;34m(self, src, **kwds)\u001b[0m\n\u001b[0;32m   2006\u001b[0m         \u001b[0mkwds\u001b[0m\u001b[1;33m[\u001b[0m\u001b[1;34m\"usecols\"\u001b[0m\u001b[1;33m]\u001b[0m \u001b[1;33m=\u001b[0m \u001b[0mself\u001b[0m\u001b[1;33m.\u001b[0m\u001b[0musecols\u001b[0m\u001b[1;33m\u001b[0m\u001b[1;33m\u001b[0m\u001b[0m\n\u001b[0;32m   2007\u001b[0m \u001b[1;33m\u001b[0m\u001b[0m\n\u001b[1;32m-> 2008\u001b[1;33m         \u001b[0mself\u001b[0m\u001b[1;33m.\u001b[0m\u001b[0m_reader\u001b[0m \u001b[1;33m=\u001b[0m \u001b[0mparsers\u001b[0m\u001b[1;33m.\u001b[0m\u001b[0mTextReader\u001b[0m\u001b[1;33m(\u001b[0m\u001b[0msrc\u001b[0m\u001b[1;33m,\u001b[0m \u001b[1;33m**\u001b[0m\u001b[0mkwds\u001b[0m\u001b[1;33m)\u001b[0m\u001b[1;33m\u001b[0m\u001b[1;33m\u001b[0m\u001b[0m\n\u001b[0m\u001b[0;32m   2009\u001b[0m         \u001b[0mself\u001b[0m\u001b[1;33m.\u001b[0m\u001b[0munnamed_cols\u001b[0m \u001b[1;33m=\u001b[0m \u001b[0mself\u001b[0m\u001b[1;33m.\u001b[0m\u001b[0m_reader\u001b[0m\u001b[1;33m.\u001b[0m\u001b[0munnamed_cols\u001b[0m\u001b[1;33m\u001b[0m\u001b[1;33m\u001b[0m\u001b[0m\n\u001b[0;32m   2010\u001b[0m \u001b[1;33m\u001b[0m\u001b[0m\n",
      "\u001b[1;32mpandas\\_libs\\parsers.pyx\u001b[0m in \u001b[0;36mpandas._libs.parsers.TextReader.__cinit__\u001b[1;34m()\u001b[0m\n",
      "\u001b[1;32mpandas\\_libs\\parsers.pyx\u001b[0m in \u001b[0;36mpandas._libs.parsers.TextReader._setup_parser_source\u001b[1;34m()\u001b[0m\n",
      "\u001b[1;31mFileNotFoundError\u001b[0m: [Errno 2] No such file or directory: '../input/heart-failure-prediction/heart.csv'"
     ]
    }
   ],
   "source": [
    "df= pd.read_csv('../input/heart-failure-prediction/heart.csv')\n",
    "df.head(10)\n",
    "df.tail(10)"
   ]
  },
  {
   "cell_type": "markdown",
   "metadata": {},
   "source": [
    "## Checking Unique Features in Qualitative Data\n",
    "Before we proceed to feature engineering, we need to see what kind of categorical data that we have. Thus, checking unique features is necessary"
   ]
  },
  {
   "cell_type": "code",
   "execution_count": null,
   "metadata": {
    "execution": {
     "iopub.execute_input": "2021-12-23T15:15:33.589936Z",
     "iopub.status.busy": "2021-12-23T15:15:33.589428Z",
     "iopub.status.idle": "2021-12-23T15:15:33.600119Z",
     "shell.execute_reply": "2021-12-23T15:15:33.599177Z",
     "shell.execute_reply.started": "2021-12-23T15:15:33.589889Z"
    }
   },
   "outputs": [],
   "source": [
    "for column_names in df.columns:\n",
    "    if df[column_names].dtypes==object:\n",
    "        print(column_names+' has ')\n",
    "        print(df[column_names].unique())"
   ]
  },
  {
   "cell_type": "markdown",
   "metadata": {},
   "source": [
    "## Checking Quantitative Data\n",
    "It is the same as previous, we need to see the statistical data to determine the null values or outliers"
   ]
  },
  {
   "cell_type": "code",
   "execution_count": null,
   "metadata": {
    "execution": {
     "iopub.execute_input": "2021-12-23T15:15:33.602546Z",
     "iopub.status.busy": "2021-12-23T15:15:33.602348Z",
     "iopub.status.idle": "2021-12-23T15:15:33.628638Z",
     "shell.execute_reply": "2021-12-23T15:15:33.627807Z",
     "shell.execute_reply.started": "2021-12-23T15:15:33.602522Z"
    }
   },
   "outputs": [],
   "source": [
    "for column_names in df.columns:\n",
    "    if df[column_names].dtypes!=object:\n",
    "        print(column_names+' has ')\n",
    "        print(df[column_names].describe())"
   ]
  },
  {
   "cell_type": "code",
   "execution_count": null,
   "metadata": {
    "execution": {
     "iopub.execute_input": "2021-12-23T15:15:33.630124Z",
     "iopub.status.busy": "2021-12-23T15:15:33.629912Z",
     "iopub.status.idle": "2021-12-23T15:15:33.638203Z",
     "shell.execute_reply": "2021-12-23T15:15:33.637154Z",
     "shell.execute_reply.started": "2021-12-23T15:15:33.630097Z"
    }
   },
   "outputs": [],
   "source": [
    "df.isnull().sum()"
   ]
  },
  {
   "cell_type": "code",
   "execution_count": null,
   "metadata": {
    "execution": {
     "iopub.execute_input": "2021-12-23T15:15:33.639321Z",
     "iopub.status.busy": "2021-12-23T15:15:33.639109Z",
     "iopub.status.idle": "2021-12-23T15:15:33.648903Z",
     "shell.execute_reply": "2021-12-23T15:15:33.648271Z",
     "shell.execute_reply.started": "2021-12-23T15:15:33.639296Z"
    }
   },
   "outputs": [],
   "source": [
    "for column_names in df.columns:\n",
    "    if df[column_names].max()!=1 and (df[column_names].dtypes=='float64' or df[column_names].dtypes=='int64'):\n",
    "        print(column_names)"
   ]
  },
  {
   "cell_type": "markdown",
   "metadata": {},
   "source": [
    "## Data Visualization"
   ]
  },
  {
   "cell_type": "code",
   "execution_count": null,
   "metadata": {
    "execution": {
     "iopub.execute_input": "2021-12-23T15:15:33.650419Z",
     "iopub.status.busy": "2021-12-23T15:15:33.650224Z",
     "iopub.status.idle": "2021-12-23T15:15:35.291598Z",
     "shell.execute_reply": "2021-12-23T15:15:35.290826Z",
     "shell.execute_reply.started": "2021-12-23T15:15:33.650396Z"
    }
   },
   "outputs": [],
   "source": [
    "for column_names in df.columns:\n",
    "    if df[column_names].max()!=1 and (df[column_names].dtypes=='float64' or df[column_names].dtypes=='int64'):\n",
    "        sns.displot(x=df[column_names], kde=True)"
   ]
  },
  {
   "cell_type": "code",
   "execution_count": null,
   "metadata": {
    "execution": {
     "iopub.execute_input": "2021-12-23T15:15:35.293547Z",
     "iopub.status.busy": "2021-12-23T15:15:35.293094Z",
     "iopub.status.idle": "2021-12-23T15:15:35.686350Z",
     "shell.execute_reply": "2021-12-23T15:15:35.685560Z",
     "shell.execute_reply.started": "2021-12-23T15:15:35.293502Z"
    }
   },
   "outputs": [],
   "source": [
    "sns.boxplot(x=df['Age'])"
   ]
  },
  {
   "cell_type": "code",
   "execution_count": null,
   "metadata": {
    "execution": {
     "iopub.execute_input": "2021-12-23T15:15:35.687672Z",
     "iopub.status.busy": "2021-12-23T15:15:35.687450Z",
     "iopub.status.idle": "2021-12-23T15:15:35.858487Z",
     "shell.execute_reply": "2021-12-23T15:15:35.857624Z",
     "shell.execute_reply.started": "2021-12-23T15:15:35.687644Z"
    }
   },
   "outputs": [],
   "source": [
    "sns.boxplot(x=df['RestingBP'])"
   ]
  },
  {
   "cell_type": "code",
   "execution_count": null,
   "metadata": {
    "execution": {
     "iopub.execute_input": "2021-12-23T15:15:35.860034Z",
     "iopub.status.busy": "2021-12-23T15:15:35.859692Z",
     "iopub.status.idle": "2021-12-23T15:15:35.983543Z",
     "shell.execute_reply": "2021-12-23T15:15:35.982593Z",
     "shell.execute_reply.started": "2021-12-23T15:15:35.859985Z"
    }
   },
   "outputs": [],
   "source": [
    "sns.boxplot(x=df['Cholesterol'])"
   ]
  },
  {
   "cell_type": "code",
   "execution_count": null,
   "metadata": {
    "execution": {
     "iopub.execute_input": "2021-12-23T15:15:35.985688Z",
     "iopub.status.busy": "2021-12-23T15:15:35.985280Z",
     "iopub.status.idle": "2021-12-23T15:15:36.170433Z",
     "shell.execute_reply": "2021-12-23T15:15:36.169622Z",
     "shell.execute_reply.started": "2021-12-23T15:15:35.985638Z"
    }
   },
   "outputs": [],
   "source": [
    "sns.boxplot(x=df['MaxHR'])"
   ]
  },
  {
   "cell_type": "code",
   "execution_count": null,
   "metadata": {
    "execution": {
     "iopub.execute_input": "2021-12-23T15:15:36.172193Z",
     "iopub.status.busy": "2021-12-23T15:15:36.171730Z",
     "iopub.status.idle": "2021-12-23T15:15:36.324926Z",
     "shell.execute_reply": "2021-12-23T15:15:36.323960Z",
     "shell.execute_reply.started": "2021-12-23T15:15:36.172151Z"
    }
   },
   "outputs": [],
   "source": [
    "sns.boxplot(x=df['Oldpeak'])"
   ]
  },
  {
   "cell_type": "markdown",
   "metadata": {},
   "source": [
    "## Feature Engineering\n",
    "Since we need to consider the outliers would affect the model or not, we need to see how much the outliers are in certain categories. Then, we need to consider replacing it"
   ]
  },
  {
   "cell_type": "code",
   "execution_count": null,
   "metadata": {
    "execution": {
     "iopub.execute_input": "2021-12-23T15:15:36.327534Z",
     "iopub.status.busy": "2021-12-23T15:15:36.327076Z",
     "iopub.status.idle": "2021-12-23T15:15:36.347346Z",
     "shell.execute_reply": "2021-12-23T15:15:36.346446Z",
     "shell.execute_reply.started": "2021-12-23T15:15:36.327498Z"
    }
   },
   "outputs": [],
   "source": [
    "Q1=df.quantile(0.25)\n",
    "Q3=df.quantile(0.75)\n",
    "IQR=Q3-Q1\n",
    "numerical_value=['Age','RestingBP','Cholesterol','MaxHR','Oldpeak']\n",
    "((df[numerical_value] < (Q1 - 1.5 * IQR)) | (df[numerical_value] > (Q3 + 1.5 * IQR))).sum()"
   ]
  },
  {
   "cell_type": "code",
   "execution_count": null,
   "metadata": {
    "execution": {
     "iopub.execute_input": "2021-12-23T15:18:14.481708Z",
     "iopub.status.busy": "2021-12-23T15:18:14.480716Z",
     "iopub.status.idle": "2021-12-23T15:18:14.491103Z",
     "shell.execute_reply": "2021-12-23T15:18:14.490154Z",
     "shell.execute_reply.started": "2021-12-23T15:18:14.481661Z"
    }
   },
   "outputs": [],
   "source": [
    "print(df[numerical_value].skew())"
   ]
  },
  {
   "cell_type": "code",
   "execution_count": null,
   "metadata": {
    "execution": {
     "iopub.execute_input": "2021-12-23T15:17:08.180840Z",
     "iopub.status.busy": "2021-12-23T15:17:08.179926Z",
     "iopub.status.idle": "2021-12-23T15:17:08.188879Z",
     "shell.execute_reply": "2021-12-23T15:17:08.188149Z",
     "shell.execute_reply.started": "2021-12-23T15:17:08.180789Z"
    }
   },
   "outputs": [],
   "source": [
    "print(df['Oldpeak'].quantile(0.1))\n",
    "print(df['Oldpeak'].quantile(0.9))"
   ]
  },
  {
   "cell_type": "code",
   "execution_count": null,
   "metadata": {
    "execution": {
     "iopub.execute_input": "2021-12-23T15:17:52.324150Z",
     "iopub.status.busy": "2021-12-23T15:17:52.323898Z",
     "iopub.status.idle": "2021-12-23T15:17:52.334769Z",
     "shell.execute_reply": "2021-12-23T15:17:52.333644Z",
     "shell.execute_reply.started": "2021-12-23T15:17:52.324124Z"
    }
   },
   "outputs": [],
   "source": [
    "Q1= df.quantile(0.1)\n",
    "Q3=df.quantile(0.9)\n",
    "IQR=Q3-Q1\n",
    "df[\"Oldpeak\"] = np.where(df[\"Oldpeak\"] <0.0, 0.0,df['Oldpeak'])\n",
    "df[\"Oldpeak\"] = np.where(df[\"Oldpeak\"] >2.3, 2.3,df['Oldpeak'])\n",
    "print(df['Oldpeak'].skew())"
   ]
  },
  {
   "cell_type": "code",
   "execution_count": null,
   "metadata": {
    "execution": {
     "iopub.execute_input": "2021-12-23T15:23:37.484851Z",
     "iopub.status.busy": "2021-12-23T15:23:37.484581Z",
     "iopub.status.idle": "2021-12-23T15:23:37.493362Z",
     "shell.execute_reply": "2021-12-23T15:23:37.492578Z",
     "shell.execute_reply.started": "2021-12-23T15:23:37.484822Z"
    }
   },
   "outputs": [],
   "source": [
    "label=LabelEncoder()\n",
    "category_data=['Sex','ChestPainType','RestingECG','ExerciseAngina','ST_Slope']\n",
    "for word in category_data:\n",
    "    df[word]=label.fit_transform(df[word])"
   ]
  },
  {
   "cell_type": "code",
   "execution_count": null,
   "metadata": {
    "execution": {
     "iopub.execute_input": "2021-12-23T15:23:44.932701Z",
     "iopub.status.busy": "2021-12-23T15:23:44.932438Z",
     "iopub.status.idle": "2021-12-23T15:23:44.944705Z",
     "shell.execute_reply": "2021-12-23T15:23:44.944092Z",
     "shell.execute_reply.started": "2021-12-23T15:23:44.932671Z"
    }
   },
   "outputs": [],
   "source": [
    "df.head()"
   ]
  },
  {
   "cell_type": "code",
   "execution_count": null,
   "metadata": {
    "execution": {
     "iopub.execute_input": "2021-12-23T15:25:21.047598Z",
     "iopub.status.busy": "2021-12-23T15:25:21.047331Z",
     "iopub.status.idle": "2021-12-23T15:25:21.087082Z",
     "shell.execute_reply": "2021-12-23T15:25:21.086220Z",
     "shell.execute_reply.started": "2021-12-23T15:25:21.047562Z"
    }
   },
   "outputs": [],
   "source": [
    "df.describe()"
   ]
  },
  {
   "cell_type": "code",
   "execution_count": null,
   "metadata": {
    "execution": {
     "iopub.execute_input": "2021-12-23T15:27:43.244620Z",
     "iopub.status.busy": "2021-12-23T15:27:43.244376Z",
     "iopub.status.idle": "2021-12-23T15:27:43.256769Z",
     "shell.execute_reply": "2021-12-23T15:27:43.255812Z",
     "shell.execute_reply.started": "2021-12-23T15:27:43.244593Z"
    }
   },
   "outputs": [],
   "source": [
    "scaled=MinMaxScaler()\n",
    "need_to_scaled=['Age','ChestPainType','RestingBP','Cholesterol','RestingECG','MaxHR','Oldpeak','ST_Slope']\n",
    "\n",
    "df[need_to_scaled]=scaled.fit_transform(df[need_to_scaled])"
   ]
  },
  {
   "cell_type": "markdown",
   "metadata": {},
   "source": [
    "## Splitting Data Test and Train"
   ]
  },
  {
   "cell_type": "code",
   "execution_count": null,
   "metadata": {
    "execution": {
     "iopub.execute_input": "2021-12-23T15:31:55.084007Z",
     "iopub.status.busy": "2021-12-23T15:31:55.083453Z",
     "iopub.status.idle": "2021-12-23T15:31:55.089243Z",
     "shell.execute_reply": "2021-12-23T15:31:55.088234Z",
     "shell.execute_reply.started": "2021-12-23T15:31:55.083965Z"
    }
   },
   "outputs": [],
   "source": [
    "x=df.drop(columns='HeartDisease')\n",
    "y=df['HeartDisease']"
   ]
  },
  {
   "cell_type": "code",
   "execution_count": null,
   "metadata": {
    "execution": {
     "iopub.execute_input": "2021-12-23T15:37:19.113901Z",
     "iopub.status.busy": "2021-12-23T15:37:19.113638Z",
     "iopub.status.idle": "2021-12-23T15:37:19.120680Z",
     "shell.execute_reply": "2021-12-23T15:37:19.119931Z",
     "shell.execute_reply.started": "2021-12-23T15:37:19.113874Z"
    }
   },
   "outputs": [],
   "source": [
    "x_train,x_test,y_train,y_test=train_test_split(x,y, random_state=123,test_size=0.3)"
   ]
  },
  {
   "cell_type": "code",
   "execution_count": null,
   "metadata": {
    "execution": {
     "iopub.execute_input": "2021-12-23T15:37:19.475366Z",
     "iopub.status.busy": "2021-12-23T15:37:19.475100Z",
     "iopub.status.idle": "2021-12-23T15:37:19.482767Z",
     "shell.execute_reply": "2021-12-23T15:37:19.481817Z",
     "shell.execute_reply.started": "2021-12-23T15:37:19.475337Z"
    }
   },
   "outputs": [],
   "source": [
    "y_train"
   ]
  },
  {
   "cell_type": "markdown",
   "metadata": {},
   "source": [
    "## Machine Learning"
   ]
  },
  {
   "cell_type": "code",
   "execution_count": null,
   "metadata": {
    "execution": {
     "iopub.execute_input": "2021-12-23T15:37:27.402475Z",
     "iopub.status.busy": "2021-12-23T15:37:27.401673Z",
     "iopub.status.idle": "2021-12-23T15:37:27.419509Z",
     "shell.execute_reply": "2021-12-23T15:37:27.418274Z",
     "shell.execute_reply.started": "2021-12-23T15:37:27.402432Z"
    }
   },
   "outputs": [],
   "source": [
    "lsvc= LinearSVC()\n",
    "lsvc.fit(x_train,y_train)\n",
    "score = lsvc.score(x_train, y_train)\n",
    "print(\"Score: \", score)"
   ]
  },
  {
   "cell_type": "code",
   "execution_count": null,
   "metadata": {
    "execution": {
     "iopub.execute_input": "2021-12-23T15:39:08.214937Z",
     "iopub.status.busy": "2021-12-23T15:39:08.214479Z",
     "iopub.status.idle": "2021-12-23T15:39:08.225606Z",
     "shell.execute_reply": "2021-12-23T15:39:08.224912Z",
     "shell.execute_reply.started": "2021-12-23T15:39:08.214891Z"
    }
   },
   "outputs": [],
   "source": [
    "y_pred = lsvc.predict(x_test)\n",
    "cr = classification_report(y_test, y_pred)\n",
    "print(cr)"
   ]
  },
  {
   "cell_type": "code",
   "execution_count": null,
   "metadata": {},
   "outputs": [],
   "source": []
  }
 ],
 "metadata": {
  "kernelspec": {
   "display_name": "Python 3",
   "language": "python",
   "name": "python3"
  },
  "language_info": {
   "codemirror_mode": {
    "name": "ipython",
    "version": 3
   },
   "file_extension": ".py",
   "mimetype": "text/x-python",
   "name": "python",
   "nbconvert_exporter": "python",
   "pygments_lexer": "ipython3",
   "version": "3.8.5"
  }
 },
 "nbformat": 4,
 "nbformat_minor": 4
}
